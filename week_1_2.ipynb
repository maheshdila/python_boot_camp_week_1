{
  "nbformat": 4,
  "nbformat_minor": 0,
  "metadata": {
    "colab": {
      "name": "week_1.2.ipynb",
      "provenance": [],
      "authorship_tag": "ABX9TyOjxZlORDyJ/WNNoK0JAKae",
      "include_colab_link": true
    },
    "kernelspec": {
      "name": "python3",
      "display_name": "Python 3"
    }
  },
  "cells": [
    {
      "cell_type": "markdown",
      "metadata": {
        "id": "view-in-github",
        "colab_type": "text"
      },
      "source": [
        "<a href=\"https://colab.research.google.com/github/maheshdila/python_boot_camp_week_1/blob/main/week_1_2.ipynb\" target=\"_parent\"><img src=\"https://colab.research.google.com/assets/colab-badge.svg\" alt=\"Open In Colab\"/></a>"
      ]
    },
    {
      "cell_type": "markdown",
      "metadata": {
        "id": "lrkCesEAyAyc"
      },
      "source": [
        "request.get method obtain informations from that api of google,,\r\n",
        "it can get data from any api that has request 200 "
      ]
    },
    {
      "cell_type": "code",
      "metadata": {
        "id": "0vTxHqOdxItB"
      },
      "source": [
        "import requests\r\n",
        "\r\n",
        "response = requests.get('https://www.google.com') #should passed as an string\r\n",
        "print(response) # we can print(response.text) this jst prin the variable with text format"
      ],
      "execution_count": null,
      "outputs": []
    },
    {
      "cell_type": "markdown",
      "metadata": {
        "id": "jScMDZb1CtAv"
      },
      "source": [
        "json is another data type we can use as exception for html and lyk that "
      ]
    },
    {
      "cell_type": "code",
      "metadata": {
        "id": "XE5shYxpDhP4"
      },
      "source": [
        "import requests\r\n",
        "\r\n",
        "response = requests.get('https://uselessfacts.jsph.pl/random.json')\r\n",
        "print(response.text)"
      ],
      "execution_count": null,
      "outputs": []
    },
    {
      "cell_type": "markdown",
      "metadata": {
        "id": "QrKydEj0Eqah"
      },
      "source": [
        "This returns us json data, which is type with dictionary\r\n",
        "according to the source of API we can customise these json data\r\n",
        "      ex: we can change the language of json data as they given in website"
      ]
    },
    {
      "cell_type": "code",
      "metadata": {
        "colab": {
          "base_uri": "https://localhost:8080/"
        },
        "id": "5m7Q1SPfFLI6",
        "outputId": "bc1f3feb-8853-417d-d04f-963ac224ecde"
      },
      "source": [
        "import requests\r\n",
        "\r\n",
        "response = requests.get('https://uselessfacts.jsph.pl/random.json?language=en')  # this ?language=en is called a query parameter\r\n",
        "print(response.text)"
      ],
      "execution_count": null,
      "outputs": [
        {
          "output_type": "stream",
          "text": [
            "{\"id\":\"0a8f548c-8056-4fe2-8c84-3cf5b6f5fd88\",\"text\":\"The longest word in the English language, according to the Oxford English Dictionary, is: pneumonoultramicroscopicsilicovolcanoconiosis.. \\u00a0\",\"source\":\"djtech.net\",\"source_url\":\"http:\\/\\/www.djtech.net\\/humor\\/useless_facts.htm\",\"language\":\"en\",\"permalink\":\"https:\\/\\/uselessfacts.jsph.pl\\/0a8f548c-8056-4fe2-8c84-3cf5b6f5fd88\"}\n"
          ],
          "name": "stdout"
        }
      ]
    },
    {
      "cell_type": "markdown",
      "metadata": {
        "id": "5AC1NDTyHNfh"
      },
      "source": [
        "in get method we can pass in 2 argument one for APi and one for query parameters\r\n",
        "requesst.get(str(link),params=a)\r\n",
        "a={} is adict that contain query parameters"
      ]
    },
    {
      "cell_type": "code",
      "metadata": {
        "colab": {
          "base_uri": "https://localhost:8080/"
        },
        "id": "RR-7RwH7HrsW",
        "outputId": "98256cf8-b795-41ca-af87-7cccd89c5064"
      },
      "source": [
        "import requests\r\n",
        "\r\n",
        "query_parameters = {\"language\" : \"en\"}\r\n",
        "response = requests.get('https://uselessfacts.jsph.pl/random.json',params= query_parameters)\r\n",
        "\r\n",
        "print(response.text) #here output will be a huge string "
      ],
      "execution_count": null,
      "outputs": [
        {
          "output_type": "stream",
          "text": [
            "<class 'str'>\n"
          ],
          "name": "stdout"
        }
      ]
    },
    {
      "cell_type": "markdown",
      "metadata": {
        "id": "xb4s9iqaJA8K"
      },
      "source": [
        "So we can output as a json data(dict)"
      ]
    },
    {
      "cell_type": "code",
      "metadata": {
        "colab": {
          "base_uri": "https://localhost:8080/"
        },
        "id": "rwPtqh09JF4b",
        "outputId": "081723f3-4775-41df-c159-377170ec2915"
      },
      "source": [
        "import requests\r\n",
        "\r\n",
        "query_parameters = {\"language\" : \"en\"}\r\n",
        "response = requests.get('https://uselessfacts.jsph.pl/random.json',params= query_parameters)\r\n",
        "\r\n",
        "print(response.json())"
      ],
      "execution_count": null,
      "outputs": [
        {
          "output_type": "stream",
          "text": [
            "{'id': '86c64ab0-180e-48c1-80fc-b1de0406fa32', 'text': 'Annual growth of WWW traffic is 314,000%', 'source': 'djtech.net', 'source_url': 'http://www.djtech.net/humor/useless_facts.htm', 'language': 'en', 'permalink': 'https://uselessfacts.jsph.pl/86c64ab0-180e-48c1-80fc-b1de0406fa32'}\n"
          ],
          "name": "stdout"
        }
      ]
    },
    {
      "cell_type": "markdown",
      "metadata": {
        "id": "vZMS7FGDJc2H"
      },
      "source": [
        "we can use get method to get each items in the dictionary"
      ]
    },
    {
      "cell_type": "code",
      "metadata": {
        "colab": {
          "base_uri": "https://localhost:8080/"
        },
        "id": "51pB71MRJbp-",
        "outputId": "fea2e3a6-94f4-402f-d41f-a841d4ff1339"
      },
      "source": [
        "import requests\r\n",
        "\r\n",
        "query_parameters = {\"language\" : \"en\"}\r\n",
        "response = requests.get('https://uselessfacts.jsph.pl/random.json',params= query_parameters)\r\n",
        "\r\n",
        "print(response.json().get(\"text\")) # we jst get the text"
      ],
      "execution_count": null,
      "outputs": [
        {
          "output_type": "stream",
          "text": [
            "Statues in parks: If the horse has both front legs in the air, the person died in battle; if the horse has one front leg in the air, the person died as a result of wounds received in battle; if the horse has all four legs on the ground, the person died of natural causes.\n"
          ],
          "name": "stdout"
        }
      ]
    },
    {
      "cell_type": "markdown",
      "metadata": {
        "id": "eNUP6JxER3bR"
      },
      "source": [
        "#Data Structures\r\n",
        "\r\n",
        "There are 3 main data structures,\r\n",
        "\r\n",
        "\r\n",
        "1.   list\r\n",
        "2.   dictionary\r\n",
        "3.   sets\r\n",
        "\r\n",
        "**Lists...**\r\n",
        "\r\n",
        "\r\n",
        "\r\n",
        "\r\n"
      ]
    },
    {
      "cell_type": "code",
      "metadata": {
        "colab": {
          "base_uri": "https://localhost:8080/"
        },
        "id": "ir4YNacZR9FN",
        "outputId": "34c3a959-1eff-4a02-b09d-55b5df88e6cd"
      },
      "source": [
        "x=[\"mahesh\",'hello','you',[\"listy\",3],6]\r\n",
        "\r\n",
        "x.append(\"dilshan\")\r\n",
        "print(x)\r\n",
        "x[2]= \"shifters\" #does not remove other other elements\r\n",
        "print(x)"
      ],
      "execution_count": null,
      "outputs": [
        {
          "output_type": "stream",
          "text": [
            "['mahesh', 'hello', 'you', ['listy', 3], 6, 'dilshan']\n",
            "['mahesh', 'hello', 'shifters', ['listy', 3], 6, 'dilshan']\n"
          ],
          "name": "stdout"
        }
      ]
    },
    {
      "cell_type": "code",
      "metadata": {
        "colab": {
          "base_uri": "https://localhost:8080/"
        },
        "id": "j2To6O8sVJqT",
        "outputId": "470f2970-09cc-4a37-f2c4-1d526ae191d1"
      },
      "source": [
        "# list slicing\r\n",
        "data = ['caleb','jimmy','samantha','kumara','shantha']\r\n",
        "print(data[2:4])  # 2-->starting position(inclusive)\r\n",
        "                  # 4-->ending position(exclusive)\r\n",
        "print(data[::-1])  # by setting step to -1 we can have a reversed list\r\n",
        "print(data[1:5:2])                \r\n",
        "\r\n",
        "\r\n"
      ],
      "execution_count": null,
      "outputs": [
        {
          "output_type": "stream",
          "text": [
            "['samantha', 'kumara']\n",
            "['shantha', 'kumara', 'samantha', 'jimmy', 'caleb']\n",
            "['jimmy', 'kumara']\n"
          ],
          "name": "stdout"
        }
      ]
    },
    {
      "cell_type": "markdown",
      "metadata": {
        "id": "HVBxnQBdT_4n"
      },
      "source": [
        "**Sets and Dictionary**"
      ]
    },
    {
      "cell_type": "code",
      "metadata": {
        "colab": {
          "base_uri": "https://localhost:8080/"
        },
        "id": "CxyNRRlJUIWH",
        "outputId": "08424d25-18f2-4abc-f879-ad5c46000c06"
      },
      "source": [
        "s = {1,2,3,1,'hello','caleb','hello'}\r\n",
        "s\r\n",
        "\r\n",
        "\r\n",
        "\"\"\" Dictionary \"\"\"\r\n",
        "dic ={'caleb':6,'jimmy':8,'mahesh':56}\r\n",
        "\r\n",
        "print(dic['mahesh'])  \r\n",
        "\r\n",
        "print(dic.get('caleb'))"
      ],
      "execution_count": null,
      "outputs": [
        {
          "output_type": "stream",
          "text": [
            "56\n",
            "6\n"
          ],
          "name": "stdout"
        }
      ]
    },
    {
      "cell_type": "markdown",
      "metadata": {
        "id": "kCkPPBHdgMj8"
      },
      "source": [
        "#Control Flows(loops and conditionals)\r\n",
        "\r\n",
        "iterration : one time through a loop\r\n",
        "itterables ; the things that can go one by one such as,\r\n",
        "\r\n",
        "1.   list\r\n",
        "2.   string\r\n",
        "3.   range object\r\n",
        "\r\n",
        "\r\n"
      ]
    },
    {
      "cell_type": "code",
      "metadata": {
        "id": "XltdKtaegZzj"
      },
      "source": [
        "data = ['a','b','c','d','e','f','g','h','i','j']\r\n",
        "\r\n",
        "for letter in data:\r\n",
        "  print(letter,end=',')\r\n",
        "print(\"\\n\")\r\n",
        "for i,letter in enumerate(data): # using enumerate method we can get index and the values stored in list\r\n",
        "  print(i,letter,end='-->',sep=':')\r\n",
        "  print()\r\n"
      ],
      "execution_count": null,
      "outputs": []
    },
    {
      "cell_type": "markdown",
      "metadata": {
        "id": "lOxd24Cpiw3Z"
      },
      "source": [
        "**conditionals**"
      ]
    },
    {
      "cell_type": "code",
      "metadata": {
        "id": "Ev3zqXGsi5r0"
      },
      "source": [
        "while True:\r\n",
        "  x = input()\r\n",
        "  if x == 'stop':\r\n",
        "     break\r\n",
        "  elif x == 'go':\r\n",
        "    continue      #jump to next itteration,  skip the code below and go to the begining of loop \r\n",
        "  else:\r\n",
        "    print('your input is not either \"stop\",or \"go\"')  "
      ],
      "execution_count": null,
      "outputs": []
    },
    {
      "cell_type": "code",
      "metadata": {
        "id": "1VgIz44QkT8A"
      },
      "source": [
        "\"\"\" Itteration through a dictionary \"\"\"\r\n",
        "x={\"mahesh\":122,\"caleb\":190,\"pavni\":109}\r\n",
        "\r\n",
        "for i in x:\r\n",
        "  print(x)\r\n",
        "print(\"\\n\")\r\n",
        "for key,value in x.items(): #items() metho of dictionary can acces eacch value of key of given dic\r\n",
        "  print(key,value,sep=\"-->\")\r\n",
        "  if value ==190:\r\n",
        "    print(\"There's man with 122 he is\",key)\r\n"
      ],
      "execution_count": null,
      "outputs": []
    },
    {
      "cell_type": "markdown",
      "metadata": {
        "id": "Ih0FGc3Bs3Bt"
      },
      "source": [
        "# Number guesing game\r\n",
        "**Pseudo code**\r\n",
        "generate a random number-random module  \r\n",
        "do while-python does n't have tis bulshit\r\n",
        "but we can create a atleast onetime running loop  \r\n",
        "ask for a number if we get it wrong ask again  \r\n",
        "\r\n",
        "\r\n",
        "\r\n"
      ]
    },
    {
      "cell_type": "code",
      "metadata": {
        "id": "pjXfVmxDs2LE"
      },
      "source": [
        "from random import randint\r\n",
        "\r\n",
        "x = randint(1,1000) # 1-lower_lim(inclusive),, 10-upper_lim(inclusive)\r\n",
        "\r\n",
        "while True:\r\n",
        "  gues = int(input(\"Enter a number that u gues it is:\"))\r\n",
        "  if gues > x:\r\n",
        "    print('gues lower')\r\n",
        "  elif gues < x:\r\n",
        "    print('gues higher')\r\n",
        "  else:\r\n",
        "    print(\"You won buddy\") \r\n",
        "    break   "
      ],
      "execution_count": null,
      "outputs": []
    }
  ]
}