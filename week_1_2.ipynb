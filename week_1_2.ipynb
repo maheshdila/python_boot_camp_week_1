{
  "nbformat": 4,
  "nbformat_minor": 0,
  "metadata": {
    "colab": {
      "name": "week_1.2.ipynb",
      "provenance": [],
      "authorship_tag": "ABX9TyPCKb4p1l+rVLcqleB7I44m",
      "include_colab_link": true
    },
    "kernelspec": {
      "name": "python3",
      "display_name": "Python 3"
    }
  },
  "cells": [
    {
      "cell_type": "markdown",
      "metadata": {
        "id": "view-in-github",
        "colab_type": "text"
      },
      "source": [
        "<a href=\"https://colab.research.google.com/github/maheshdila/python_boot_camp_week_1/blob/main/week_1_2.ipynb\" target=\"_parent\"><img src=\"https://colab.research.google.com/assets/colab-badge.svg\" alt=\"Open In Colab\"/></a>"
      ]
    },
    {
      "cell_type": "markdown",
      "metadata": {
        "id": "lrkCesEAyAyc"
      },
      "source": [
        "request.get method obtain informations from that api of google,,\n",
        "it can get data from any api that has request 200 "
      ]
    },
    {
      "cell_type": "code",
      "metadata": {
        "id": "0vTxHqOdxItB",
        "outputId": "83f2ce94-5cd1-4aa7-83e6-7b8db7a7177e",
        "colab": {
          "base_uri": "https://localhost:8080/"
        }
      },
      "source": [
        "import requests\n",
        "\n",
        "response = requests.get('https://www.google.com') #should passed as an string\n",
        "print(response.text) # we can print(response.text) this jst prin the variable with text format"
      ],
      "execution_count": 3,
      "outputs": [
        {
          "output_type": "stream",
          "text": [
            "<!doctype html><html itemscope=\"\" itemtype=\"http://schema.org/WebPage\" lang=\"zh-TW\"><head><meta content=\"text/html; charset=UTF-8\" http-equiv=\"Content-Type\"><meta content=\"/images/branding/googleg/1x/googleg_standard_color_128dp.png\" itemprop=\"image\"><title>Google</title><script nonce=\"nbQxaReyp123fd7S/Wk2Xg==\">(function(){window.google={kEI:'4H14YI7WFaSJmAWT9Z-oBA',kEXPI:'0,18167,1284273,96,56873,954,755,4350,206,4804,926,1390,383,246,5,1354,1300,3950,1122516,1232,1196491,560,43,302636,26305,51223,16109,6063,22627,9188,8384,4858,1362,9291,3029,4738,7,12834,4998,13228,2054,1793,3600,592,6430,14527,4518,2777,919,2277,8,85,2711,1593,1279,2212,530,149,1103,840,517,1466,56,4224,34,109,4011,2023,1777,520,4270,327,1284,8789,3227,2845,7,5599,6755,5096,7877,3748,1180,108,3407,908,2,941,2614,2398,10744,3,576,1835,4625,148,5990,7985,4,1528,2304,1236,5227,2367,2893,459,1555,4067,12557,1751,2658,4243,518,912,564,464,656,30,3854,4275,3285,2214,2305,638,1494,5586,5425,5110,665,2145,3673,2539,991,872,184,907,1140,17,2239,882,6,613,295,3,3541,1,3324,853,5767,1394,3372,1814,38,245,912,3434,1941,617,1263,1191,2,383,3751,164,432,2857,712,77,389,1305,2,1394,115,1301,923,2,465,1715,2,488,1922,16,631,2512,36,2713,350,721,552,381,90,3604,1874,2,37,24,174,444,254,205,455,354,1,1,1,592,77,1350,3,78,13,315,1398,331,286,1066,209,1331,827,2014,406,41,1199,1025,183,100,86,1063,34,290,240,224,2,2,2,18,1,640,32,2,268,267,2,1351,328,246,1018,75,527,146,2,2,109,102,92,744,883,2,112,163,194,5661304,12,3893,226,63,19,8797703,882,444,1,2,80,1,1796,1,9,2,2551,1,748,141,795,563,1,4265,1,1,2,1331,3299,843,1,2608,155,17,13,72,139,4,2,20,2,169,13,19,46,5,39,96,71,6,47,160,4,4,4,4,4,4,8,4,4,4,24,68,128,29,2,2,1,2,1,2,2,7,4,1,2,4,2,8,2,18,12,11,6,31,23956144,149,2738316,1271809,268,244,27135,2',kBL:'ox12'};google.sn='webhp';google.kHL='zh-TW';})();(function(){\n",
            "var f,h=[];function k(a){for(var b;a&&(!a.getAttribute||!(b=a.getAttribute(\"eid\")));)a=a.parentNode;return b||f}function l(a){for(var b=null;a&&(!a.getAttribute||!(b=a.getAttribute(\"leid\")));)a=a.parentNode;return b}\n",
            "function m(a,b,c,d,g){var e=\"\";c||-1!=b.search(\"&ei=\")||(e=\"&ei=\"+k(d),-1==b.search(\"&lei=\")&&(d=l(d))&&(e+=\"&lei=\"+d));d=\"\";!c&&window._cshid&&-1==b.search(\"&cshid=\")&&\"slh\"!=a&&(d=\"&cshid=\"+window._cshid);c=c||\"/\"+(g||\"gen_204\")+\"?atyp=i&ct=\"+a+\"&cad=\"+b+e+\"&zx=\"+Date.now()+d;/^http:/i.test(c)&&\"https:\"==window.location.protocol&&(google.ml&&google.ml(Error(\"a\"),!1,{src:c,glmm:1}),c=\"\");return c};f=google.kEI;google.getEI=k;google.getLEI=l;google.ml=function(){return null};google.log=function(a,b,c,d,g){if(c=m(a,b,c,d,g)){a=new Image;var e=h.length;h[e]=a;a.onerror=a.onload=a.onabort=function(){delete h[e]};a.src=c}};google.logUrl=m;}).call(this);(function(){google.y={};google.sy=[];google.x=function(a,b){if(a)var c=a.id;else{do c=Math.random();while(google.y[c])}google.y[c]=[a,b];return!1};google.sx=function(a){google.sy.push(a)};google.lm=[];google.plm=function(a){google.lm.push.apply(google.lm,a)};google.lq=[];google.load=function(a,b,c){google.lq.push([[a],b,c])};google.loadAll=function(a,b){google.lq.push([a,b])};google.bx=!1;google.lx=function(){};}).call(this);google.f={};(function(){\n",
            "document.documentElement.addEventListener(\"submit\",function(b){var a;if(a=b.target){var c=a.getAttribute(\"data-submitfalse\");a=\"1\"==c||\"q\"==c&&!a.elements.q.value?!0:!1}else a=!1;a&&(b.preventDefault(),b.stopPropagation())},!0);document.documentElement.addEventListener(\"click\",function(b){var a;a:{for(a=b.target;a&&a!=document.documentElement;a=a.parentElement)if(\"A\"==a.tagName){a=\"1\"==a.getAttribute(\"data-nohref\");break a}a=!1}a&&b.preventDefault()},!0);}).call(this);</script><style>#gbar,#guser{font-size:13px;padding-top:1px !important;}#gbar{height:22px}#guser{padding-bottom:7px !important;text-align:right}.gbh,.gbd{border-top:1px solid #c9d7f1;font-size:1px}.gbh{height:0;position:absolute;top:24px;width:100%}@media all{.gb1{height:22px;margin-right:.5em;vertical-align:top}#gbar{float:left}}a.gb1,a.gb4{text-decoration:underline !important}a.gb1,a.gb4{color:#00c !important}.gbi .gb4{color:#dd8e27 !important}.gbf .gb4{color:#900 !important}\n",
            "</style><style>body,td,a,p,.h{font-family:arial,sans-serif}body{margin:0;overflow-y:scroll}#gog{padding:3px 8px 0}td{line-height:.8em}.gac_m td{line-height:17px}form{margin-bottom:20px}.h{color:#1558d6}em{color:#c5221f;font-style:normal;font-weight:normal}a em{text-decoration:underline}.lst{height:25px;width:496px}.gsfi,.lst{font:18px arial,sans-serif}.gsfs{font:17px arial,sans-serif}.ds{display:inline-box;display:inline-block;margin:3px 0 4px;margin-left:4px}input{font-family:inherit}body{background:#fff;color:#000}a{color:#4b11a8;text-decoration:none}a:hover,a:active{text-decoration:underline}.fl a{color:#1558d6}a:visited{color:#4b11a8}.sblc{padding-top:5px}.sblc a{display:block;margin:2px 0;margin-left:13px;font-size:11px}.lsbb{background:#f8f9fa;border:solid 1px;border-color:#dadce0 #70757a #70757a #dadce0;height:30px}.lsbb{display:block}#WqQANb a{display:inline-block;margin:0 12px}.lsb{background:url(/images/nav_logo229.png) 0 -261px repeat-x;border:none;color:#000;cursor:pointer;height:30px;margin:0;outline:0;font:15px arial,sans-serif;vertical-align:top}.lsb:active{background:#dadce0}.lst:focus{outline:none}</style><script nonce=\"nbQxaReyp123fd7S/Wk2Xg==\"></script></head><body bgcolor=\"#fff\"><script nonce=\"nbQxaReyp123fd7S/Wk2Xg==\">(function(){var src='/images/nav_logo229.png';var iesg=false;document.body.onload = function(){window.n && window.n();if (document.images){new Image().src=src;}\n",
            "if (!iesg){document.f&&document.f.q.focus();document.gbqf&&document.gbqf.q.focus();}\n",
            "}\n",
            "})();</script><div id=\"mngb\"><div id=gbar><nobr><b class=gb1>&#25628;&#23563;</b> <a class=gb1 href=\"https://www.google.com.tw/imghp?hl=zh-TW&tab=wi\">&#22294;&#29255;</a> <a class=gb1 href=\"https://maps.google.com.tw/maps?hl=zh-TW&tab=wl\">&#22320;&#22294;</a> <a class=gb1 href=\"https://play.google.com/?hl=zh-TW&tab=w8\">Play</a> <a class=gb1 href=\"https://www.youtube.com/?gl=TW&tab=w1\">YouTube</a> <a class=gb1 href=\"https://news.google.com/?tab=wn\">&#26032;&#32862;</a> <a class=gb1 href=\"https://mail.google.com/mail/?tab=wm\">Gmail</a> <a class=gb1 href=\"https://drive.google.com/?tab=wo\">&#38642;&#31471;&#30828;&#30879;</a> <a class=gb1 style=\"text-decoration:none\" href=\"https://www.google.com.tw/intl/zh-TW/about/products?tab=wh\"><u>&#26356;&#22810;</u> &raquo;</a></nobr></div><div id=guser width=100%><nobr><span id=gbn class=gbi></span><span id=gbf class=gbf></span><span id=gbe></span><a href=\"http://www.google.com.tw/history/optout?hl=zh-TW\" class=gb4>&#32178;&#38913;&#35352;&#37636;</a> | <a  href=\"/preferences?hl=zh-TW\" class=gb4>&#35373;&#23450;</a> | <a target=_top id=gb_70 href=\"https://accounts.google.com/ServiceLogin?hl=zh-TW&passive=true&continue=https://www.google.com/&ec=GAZAAQ\" class=gb4>&#30331;&#20837;</a></nobr></div><div class=gbh style=left:0></div><div class=gbh style=right:0></div></div><center><br clear=\"all\" id=\"lgpd\"><div id=\"lga\"><img alt=\"Google\" height=\"92\" src=\"/images/branding/googlelogo/1x/googlelogo_white_background_color_272x92dp.png\" style=\"padding:28px 0 14px\" width=\"272\" id=\"hplogo\"><br><br></div><form action=\"/search\" name=\"f\"><table cellpadding=\"0\" cellspacing=\"0\"><tr valign=\"top\"><td width=\"25%\">&nbsp;</td><td align=\"center\" nowrap=\"\"><input name=\"ie\" value=\"ISO-8859-1\" type=\"hidden\"><input value=\"zh-TW\" name=\"hl\" type=\"hidden\"><input name=\"source\" type=\"hidden\" value=\"hp\"><input name=\"biw\" type=\"hidden\"><input name=\"bih\" type=\"hidden\"><div class=\"ds\" style=\"height:32px;margin:4px 0\"><input class=\"lst\" style=\"margin:0;padding:5px 8px 0 6px;vertical-align:top;color:#000\" autocomplete=\"off\" value=\"\" title=\"Google &#25628;&#23563;\" maxlength=\"2048\" name=\"q\" size=\"57\"></div><br style=\"line-height:0\"><span class=\"ds\"><span class=\"lsbb\"><input class=\"lsb\" value=\"Google &#25628;&#23563;\" name=\"btnG\" type=\"submit\"></span></span><span class=\"ds\"><span class=\"lsbb\"><input class=\"lsb\" id=\"tsuid1\" value=\"&#22909;&#25163;&#27683;\" name=\"btnI\" type=\"submit\"><script nonce=\"nbQxaReyp123fd7S/Wk2Xg==\">(function(){var id='tsuid1';document.getElementById(id).onclick = function(){if (this.form.q.value){this.checked = 1;if (this.form.iflsig)this.form.iflsig.disabled = false;}\n",
            "else top.location='/doodles/';};})();</script><input value=\"AINFCbYAAAAAYHiL8HIcj7WGlSxd1RyGOo_cEQY_-uso\" name=\"iflsig\" type=\"hidden\"></span></span></td><td class=\"fl sblc\" align=\"left\" nowrap=\"\" width=\"25%\"><a href=\"/advanced_search?hl=zh-TW&amp;authuser=0\">&#36914;&#38542;&#25628;&#23563;</a></td></tr></table><input id=\"gbv\" name=\"gbv\" type=\"hidden\" value=\"1\"><script nonce=\"nbQxaReyp123fd7S/Wk2Xg==\">(function(){var a,b=\"1\";if(document&&document.getElementById)if(\"undefined\"!=typeof XMLHttpRequest)b=\"2\";else if(\"undefined\"!=typeof ActiveXObject){var c,d,e=[\"MSXML2.XMLHTTP.6.0\",\"MSXML2.XMLHTTP.3.0\",\"MSXML2.XMLHTTP\",\"Microsoft.XMLHTTP\"];for(c=0;d=e[c++];)try{new ActiveXObject(d),b=\"2\"}catch(h){}}a=b;if(\"2\"==a&&-1==location.search.indexOf(\"&gbv=2\")){var f=google.gbvu,g=document.getElementById(\"gbv\");g&&(g.value=a);f&&window.setTimeout(function(){location.href=f},0)};}).call(this);</script></form><div id=\"gac_scont\"></div><div style=\"font-size:83%;min-height:3.5em\"><br></div><span id=\"footer\"><div style=\"font-size:10pt\"><div style=\"margin:19px auto;text-align:center\" id=\"WqQANb\"><a href=\"/intl/zh-TW/ads/\">&#24291;&#21578;&#26381;&#21209;</a><a href=\"http://www.google.com.tw/intl/zh-TW/services/\">&#21830;&#26989;&#35299;&#27770;&#26041;&#26696;</a><a href=\"/intl/zh-TW/about.html\">&#38364;&#26044; Google</a><a href=\"https://www.google.com/setprefdomain?prefdom=TW&amp;prev=https://www.google.com.tw/&amp;sig=K_J5zm54DAYU-M1cnN6XuO4y-Wji4%3D\">Google.com.tw</a></div></div><p style=\"font-size:8pt;color:#70757a\">&copy; 2021 - <a href=\"/intl/zh-TW/policies/privacy/\">&#38577;&#31169;&#27402;</a> - <a href=\"/intl/zh-TW/policies/terms/\">&#26381;&#21209;&#26781;&#27454;</a></p></span></center><script nonce=\"nbQxaReyp123fd7S/Wk2Xg==\">(function(){window.google.cdo={height:0,width:0};(function(){var a=window.innerWidth,b=window.innerHeight;if(!a||!b){var c=window.document,d=\"CSS1Compat\"==c.compatMode?c.documentElement:c.body;a=d.clientWidth;b=d.clientHeight}a&&b&&(a!=google.cdo.width||b!=google.cdo.height)&&google.log(\"\",\"\",\"/client_204?&atyp=i&biw=\"+a+\"&bih=\"+b+\"&ei=\"+google.kEI);}).call(this);})();</script> <script nonce=\"nbQxaReyp123fd7S/Wk2Xg==\">(function(){google.xjs={ck:'xjs.hp.v1cE8KxQzDU.L.X.O',cs:'ACT90oExJg8Ju85sedTYjKinMCNyUdrFag',excm:[]};})();</script>  <script nonce=\"nbQxaReyp123fd7S/Wk2Xg==\">(function(){var u='/xjs/_/js/k\\x3dxjs.hp.en.jB4zh7_9OK4.O/m\\x3dsb_he,d/am\\x3dAHgCHA/d\\x3d1/rs\\x3dACT90oHXQvRHMTBntn4PoGi_S8iIeawNBg';\n",
            "var d=this||self,e=/^[\\w+/_-]+[=]{0,2}$/,f=null,g=function(a){return(a=a.querySelector&&a.querySelector(\"script[nonce]\"))&&(a=a.nonce||a.getAttribute(\"nonce\"))&&e.test(a)?a:\"\"},h=function(a){return a};var l;var n=function(a,b){this.g=b===m?a:\"\"};n.prototype.toString=function(){return this.g+\"\"};var m={};function p(){var a=u;google.lx=function(){q(a);google.lx=function(){}};google.bx||google.lx()}\n",
            "function q(a){var b=document;var c=\"SCRIPT\";\"application/xhtml+xml\"===b.contentType&&(c=c.toLowerCase());c=b.createElement(c);if(void 0===l){b=null;var k=d.trustedTypes;if(k&&k.createPolicy){try{b=k.createPolicy(\"goog#html\",{createHTML:h,createScript:h,createScriptURL:h})}catch(r){d.console&&d.console.error(r.message)}l=b}else l=b}a=(b=l)?b.createScriptURL(a):a;a=new n(a,m);c.src=a instanceof n&&a.constructor===n?a.g:\"type_error:TrustedResourceUrl\";(a=c.ownerDocument&&c.ownerDocument.defaultView)&&\n",
            "a!=d?a=g(a.document):(null===f&&(f=g(d.document)),a=f);a&&c.setAttribute(\"nonce\",a);google.timers&&google.timers.load&&google.tick&&google.tick(\"load\",\"xjsls\");document.body.appendChild(c);google.psa=!0};setTimeout(function(){p()},0);})();(function(){window.google.xjsu='/xjs/_/js/k\\x3dxjs.hp.en.jB4zh7_9OK4.O/m\\x3dsb_he,d/am\\x3dAHgCHA/d\\x3d1/rs\\x3dACT90oHXQvRHMTBntn4PoGi_S8iIeawNBg';})();function _DumpException(e){throw e;}\n",
            "function _F_installCss(c){}\n",
            "(function(){google.jl={blt:'none',dw:false,em:[],emtn:0,ine:false,lls:'default',pdt:0,snet:true,uwp:true};})();(function(){var pmc='{\\x22d\\x22:{},\\x22sb_he\\x22:{\\x22agen\\x22:true,\\x22cgen\\x22:true,\\x22client\\x22:\\x22heirloom-hp\\x22,\\x22dh\\x22:true,\\x22dhqt\\x22:true,\\x22ds\\x22:\\x22\\x22,\\x22ffql\\x22:\\x22zh-TW\\x22,\\x22fl\\x22:true,\\x22host\\x22:\\x22google.com\\x22,\\x22isbh\\x22:28,\\x22jsonp\\x22:true,\\x22msgs\\x22:{\\x22cibl\\x22:\\x22&#28165;&#38500;&#25628;&#23563;\\x22,\\x22dym\\x22:\\x22&#24744;&#26159;&#19981;&#26159;&#35201;&#26597;&#65306;\\x22,\\x22lcky\\x22:\\x22&#22909;&#25163;&#27683;\\x22,\\x22lml\\x22:\\x22&#30637;&#35299;&#35443;&#24773;\\x22,\\x22oskt\\x22:\\x22&#36664;&#20837;&#24037;&#20855;\\x22,\\x22psrc\\x22:\\x22&#24050;&#24478;&#24744;&#30340;&#12300;\\\\u003Ca href\\x3d\\\\\\x22/history\\\\\\x22\\\\u003E&#32178;&#38913;&#35352;&#37636;\\\\u003C/a\\\\u003E&#12301;&#20013;&#31227;&#38500;&#36889;&#31558;&#25628;&#23563;&#35352;&#37636;\\x22,\\x22psrl\\x22:\\x22&#31227;&#38500;\\x22,\\x22sbit\\x22:\\x22&#20197;&#22294;&#25628;&#23563;\\x22,\\x22srch\\x22:\\x22Google &#25628;&#23563;\\x22},\\x22nrft\\x22:false,\\x22ovr\\x22:{},\\x22pq\\x22:\\x22\\x22,\\x22refpd\\x22:true,\\x22refspre\\x22:true,\\x22rfs\\x22:[],\\x22sbas\\x22:\\x220 3px 8px 0 rgba(0,0,0,0.2),0 0 0 1px rgba(0,0,0,0.08)\\x22,\\x22sbpl\\x22:16,\\x22sbpr\\x22:16,\\x22scd\\x22:10,\\x22stok\\x22:\\x22EZ21jyJ-9qiiPnlTtZcvyTT-2TE\\x22,\\x22uhde\\x22:false}}';google.pmc=JSON.parse(pmc);})();</script>        </body></html>\n"
          ],
          "name": "stdout"
        }
      ]
    },
    {
      "cell_type": "markdown",
      "metadata": {
        "id": "jScMDZb1CtAv"
      },
      "source": [
        "json is another data type we can use as exception for html and lyk that "
      ]
    },
    {
      "cell_type": "code",
      "metadata": {
        "id": "XE5shYxpDhP4"
      },
      "source": [
        "import requests\n",
        "\n",
        "response = requests.get('https://uselessfacts.jsph.pl/random.json')\n",
        "print(response.text)"
      ],
      "execution_count": null,
      "outputs": []
    },
    {
      "cell_type": "markdown",
      "metadata": {
        "id": "QrKydEj0Eqah"
      },
      "source": [
        "This returns us json data, which is type with dictionary\n",
        "according to the source of API we can customise these json data\n",
        "      ex: we can change the language of json data as they given in website"
      ]
    },
    {
      "cell_type": "code",
      "metadata": {
        "colab": {
          "base_uri": "https://localhost:8080/"
        },
        "id": "5m7Q1SPfFLI6",
        "outputId": "bc1f3feb-8853-417d-d04f-963ac224ecde"
      },
      "source": [
        "import requests\n",
        "\n",
        "response = requests.get('https://uselessfacts.jsph.pl/random.json?language=en')  # this ?language=en is called a query parameter\n",
        "print(response.text)"
      ],
      "execution_count": null,
      "outputs": [
        {
          "output_type": "stream",
          "text": [
            "{\"id\":\"0a8f548c-8056-4fe2-8c84-3cf5b6f5fd88\",\"text\":\"The longest word in the English language, according to the Oxford English Dictionary, is: pneumonoultramicroscopicsilicovolcanoconiosis.. \\u00a0\",\"source\":\"djtech.net\",\"source_url\":\"http:\\/\\/www.djtech.net\\/humor\\/useless_facts.htm\",\"language\":\"en\",\"permalink\":\"https:\\/\\/uselessfacts.jsph.pl\\/0a8f548c-8056-4fe2-8c84-3cf5b6f5fd88\"}\n"
          ],
          "name": "stdout"
        }
      ]
    },
    {
      "cell_type": "markdown",
      "metadata": {
        "id": "5AC1NDTyHNfh"
      },
      "source": [
        "in get method we can pass in 2 argument one for APi and one for query parameters\n",
        "requesst.get(str(link),params=a)\n",
        "a={} is adict that contain query parameters"
      ]
    },
    {
      "cell_type": "code",
      "metadata": {
        "colab": {
          "base_uri": "https://localhost:8080/"
        },
        "id": "RR-7RwH7HrsW",
        "outputId": "98256cf8-b795-41ca-af87-7cccd89c5064"
      },
      "source": [
        "import requests\n",
        "\n",
        "query_parameters = {\"language\" : \"en\"}\n",
        "response = requests.get('https://uselessfacts.jsph.pl/random.json',params= query_parameters)\n",
        "\n",
        "print(response.text) #here output will be a huge string "
      ],
      "execution_count": null,
      "outputs": [
        {
          "output_type": "stream",
          "text": [
            "<class 'str'>\n"
          ],
          "name": "stdout"
        }
      ]
    },
    {
      "cell_type": "markdown",
      "metadata": {
        "id": "xb4s9iqaJA8K"
      },
      "source": [
        "So we can output as a json data(dict)"
      ]
    },
    {
      "cell_type": "code",
      "metadata": {
        "colab": {
          "base_uri": "https://localhost:8080/"
        },
        "id": "rwPtqh09JF4b",
        "outputId": "081723f3-4775-41df-c159-377170ec2915"
      },
      "source": [
        "import requests\n",
        "\n",
        "query_parameters = {\"language\" : \"en\"}\n",
        "response = requests.get('https://uselessfacts.jsph.pl/random.json',params= query_parameters)\n",
        "\n",
        "print(response.json())"
      ],
      "execution_count": null,
      "outputs": [
        {
          "output_type": "stream",
          "text": [
            "{'id': '86c64ab0-180e-48c1-80fc-b1de0406fa32', 'text': 'Annual growth of WWW traffic is 314,000%', 'source': 'djtech.net', 'source_url': 'http://www.djtech.net/humor/useless_facts.htm', 'language': 'en', 'permalink': 'https://uselessfacts.jsph.pl/86c64ab0-180e-48c1-80fc-b1de0406fa32'}\n"
          ],
          "name": "stdout"
        }
      ]
    },
    {
      "cell_type": "markdown",
      "metadata": {
        "id": "vZMS7FGDJc2H"
      },
      "source": [
        "we can use get method to get each items in the dictionary"
      ]
    },
    {
      "cell_type": "code",
      "metadata": {
        "colab": {
          "base_uri": "https://localhost:8080/"
        },
        "id": "51pB71MRJbp-",
        "outputId": "fea2e3a6-94f4-402f-d41f-a841d4ff1339"
      },
      "source": [
        "import requests\n",
        "\n",
        "query_parameters = {\"language\" : \"en\"}\n",
        "response = requests.get('https://uselessfacts.jsph.pl/random.json',params= query_parameters)\n",
        "\n",
        "print(response.json().get(\"text\")) # we jst get the text"
      ],
      "execution_count": null,
      "outputs": [
        {
          "output_type": "stream",
          "text": [
            "Statues in parks: If the horse has both front legs in the air, the person died in battle; if the horse has one front leg in the air, the person died as a result of wounds received in battle; if the horse has all four legs on the ground, the person died of natural causes.\n"
          ],
          "name": "stdout"
        }
      ]
    },
    {
      "cell_type": "markdown",
      "metadata": {
        "id": "eNUP6JxER3bR"
      },
      "source": [
        "#Data Structures\n",
        "\n",
        "There are 3 main data structures,\n",
        "\n",
        "\n",
        "1.   list\n",
        "2.   dictionary\n",
        "3.   sets\n",
        "\n",
        "**Lists...**\n",
        "\n",
        "\n",
        "\n",
        "\n"
      ]
    },
    {
      "cell_type": "code",
      "metadata": {
        "colab": {
          "base_uri": "https://localhost:8080/"
        },
        "id": "ir4YNacZR9FN",
        "outputId": "34c3a959-1eff-4a02-b09d-55b5df88e6cd"
      },
      "source": [
        "x=[\"mahesh\",'hello','you',[\"listy\",3],6]\n",
        "\n",
        "x.append(\"dilshan\")\n",
        "print(x)\n",
        "x[2]= \"shifters\" #does not remove other other elements\n",
        "print(x)"
      ],
      "execution_count": null,
      "outputs": [
        {
          "output_type": "stream",
          "text": [
            "['mahesh', 'hello', 'you', ['listy', 3], 6, 'dilshan']\n",
            "['mahesh', 'hello', 'shifters', ['listy', 3], 6, 'dilshan']\n"
          ],
          "name": "stdout"
        }
      ]
    },
    {
      "cell_type": "code",
      "metadata": {
        "colab": {
          "base_uri": "https://localhost:8080/"
        },
        "id": "j2To6O8sVJqT",
        "outputId": "470f2970-09cc-4a37-f2c4-1d526ae191d1"
      },
      "source": [
        "# list slicing\n",
        "data = ['caleb','jimmy','samantha','kumara','shantha']\n",
        "print(data[2:4])  # 2-->starting position(inclusive)\n",
        "                  # 4-->ending position(exclusive)\n",
        "print(data[::-1])  # by setting step to -1 we can have a reversed list\n",
        "print(data[1:5:2])                \n",
        "\n",
        "\n"
      ],
      "execution_count": null,
      "outputs": [
        {
          "output_type": "stream",
          "text": [
            "['samantha', 'kumara']\n",
            "['shantha', 'kumara', 'samantha', 'jimmy', 'caleb']\n",
            "['jimmy', 'kumara']\n"
          ],
          "name": "stdout"
        }
      ]
    },
    {
      "cell_type": "markdown",
      "metadata": {
        "id": "HVBxnQBdT_4n"
      },
      "source": [
        "**Sets and Dictionary**"
      ]
    },
    {
      "cell_type": "code",
      "metadata": {
        "colab": {
          "base_uri": "https://localhost:8080/"
        },
        "id": "CxyNRRlJUIWH",
        "outputId": "08424d25-18f2-4abc-f879-ad5c46000c06"
      },
      "source": [
        "s = {1,2,3,1,'hello','caleb','hello'}\n",
        "s\n",
        "\n",
        "\n",
        "\"\"\" Dictionary \"\"\"\n",
        "dic ={'caleb':6,'jimmy':8,'mahesh':56}\n",
        "\n",
        "print(dic['mahesh'])  \n",
        "\n",
        "print(dic.get('caleb'))"
      ],
      "execution_count": null,
      "outputs": [
        {
          "output_type": "stream",
          "text": [
            "56\n",
            "6\n"
          ],
          "name": "stdout"
        }
      ]
    },
    {
      "cell_type": "markdown",
      "metadata": {
        "id": "kCkPPBHdgMj8"
      },
      "source": [
        "#Control Flows(loops and conditionals)\n",
        "\n",
        "iterration : one time through a loop\n",
        "itterables ; the things that can go one by one such as,\n",
        "\n",
        "1.   list\n",
        "2.   string\n",
        "3.   range object\n",
        "\n",
        "\n"
      ]
    },
    {
      "cell_type": "code",
      "metadata": {
        "id": "XltdKtaegZzj"
      },
      "source": [
        "data = ['a','b','c','d','e','f','g','h','i','j']\n",
        "\n",
        "for letter in data:\n",
        "  print(letter,end=',')\n",
        "print(\"\\n\")\n",
        "for i,letter in enumerate(data): # using enumerate method we can get index and the values stored in list\n",
        "  print(i,letter,end='-->',sep=':')\n",
        "  print()\n"
      ],
      "execution_count": null,
      "outputs": []
    },
    {
      "cell_type": "markdown",
      "metadata": {
        "id": "lOxd24Cpiw3Z"
      },
      "source": [
        "**conditionals**"
      ]
    },
    {
      "cell_type": "code",
      "metadata": {
        "id": "Ev3zqXGsi5r0"
      },
      "source": [
        "while True:\n",
        "  x = input()\n",
        "  if x == 'stop':\n",
        "     break\n",
        "  elif x == 'go':\n",
        "    continue      #jump to next itteration,  skip the code below and go to the begining of loop \n",
        "  else:\n",
        "    print('your input is not either \"stop\",or \"go\"')  "
      ],
      "execution_count": null,
      "outputs": []
    },
    {
      "cell_type": "code",
      "metadata": {
        "id": "1VgIz44QkT8A"
      },
      "source": [
        "\"\"\" Itteration through a dictionary \"\"\"\n",
        "x={\"mahesh\":122,\"caleb\":190,\"pavni\":109}\n",
        "\n",
        "for i in x:\n",
        "  print(x)\n",
        "print(\"\\n\")\n",
        "for key,value in x.items(): #items() metho of dictionary can acces eacch value of key of given dic\n",
        "  print(key,value,sep=\"-->\")\n",
        "  if value ==190:\n",
        "    print(\"There's man with 122 he is\",key)\n"
      ],
      "execution_count": null,
      "outputs": []
    },
    {
      "cell_type": "markdown",
      "metadata": {
        "id": "Ih0FGc3Bs3Bt"
      },
      "source": [
        "# Number guesing game\n",
        "**Pseudo code**\n",
        "generate a random number-random module  \n",
        "do while-python does n't have tis bulshit\n",
        "but we can create a atleast onetime running loop  \n",
        "ask for a number if we get it wrong ask again  \n",
        "\n",
        "\n",
        "\n"
      ]
    },
    {
      "cell_type": "code",
      "metadata": {
        "id": "pjXfVmxDs2LE"
      },
      "source": [
        "from random import randint\n",
        "\n",
        "x = randint(1,1000) # 1-lower_lim(inclusive),, 10-upper_lim(inclusive)\n",
        "\n",
        "while True:\n",
        "  gues = int(input(\"Enter a number that u gues it is:\"))\n",
        "  if gues > x:\n",
        "    print('gues lower')\n",
        "  elif gues < x:\n",
        "    print('gues higher')\n",
        "  else:\n",
        "    print(\"You won buddy\") \n",
        "    break   "
      ],
      "execution_count": null,
      "outputs": []
    }
  ]
}